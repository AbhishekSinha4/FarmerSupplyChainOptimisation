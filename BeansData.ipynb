{
 "cells": [
  {
   "cell_type": "code",
   "execution_count": 1,
   "metadata": {
    "collapsed": true
   },
   "outputs": [],
   "source": [
    "import pandas as pd"
   ]
  },
  {
   "cell_type": "code",
   "execution_count": 2,
   "metadata": {},
   "outputs": [
    {
     "data": {
      "text/html": [
       "<div>\n",
       "<style>\n",
       "    .dataframe thead tr:only-child th {\n",
       "        text-align: right;\n",
       "    }\n",
       "\n",
       "    .dataframe thead th {\n",
       "        text-align: left;\n",
       "    }\n",
       "\n",
       "    .dataframe tbody tr th {\n",
       "        vertical-align: top;\n",
       "    }\n",
       "</style>\n",
       "<table border=\"1\" class=\"dataframe\">\n",
       "  <thead>\n",
       "    <tr style=\"text-align: right;\">\n",
       "      <th></th>\n",
       "      <th>Sl. No.</th>\n",
       "      <th>District</th>\n",
       "      <th>Market</th>\n",
       "      <th>Commodity</th>\n",
       "      <th>Variety</th>\n",
       "      <th>Grade</th>\n",
       "      <th>MinPrice</th>\n",
       "      <th>MaxPrice</th>\n",
       "      <th>ModalPrice</th>\n",
       "      <th>PriceDate</th>\n",
       "    </tr>\n",
       "  </thead>\n",
       "  <tbody>\n",
       "    <tr>\n",
       "      <th>0</th>\n",
       "      <td>0</td>\n",
       "      <td>Bangalore</td>\n",
       "      <td>Ramanagara</td>\n",
       "      <td>Beans</td>\n",
       "      <td>Beans (Whole)</td>\n",
       "      <td>FAQ</td>\n",
       "      <td>2000</td>\n",
       "      <td>2800</td>\n",
       "      <td>2400</td>\n",
       "      <td>15-Feb-20</td>\n",
       "    </tr>\n",
       "    <tr>\n",
       "      <th>1</th>\n",
       "      <td>1</td>\n",
       "      <td>Bangalore</td>\n",
       "      <td>Ramanagara</td>\n",
       "      <td>Beans</td>\n",
       "      <td>Beans (Whole)</td>\n",
       "      <td>FAQ</td>\n",
       "      <td>1600</td>\n",
       "      <td>2000</td>\n",
       "      <td>1800</td>\n",
       "      <td>14-Feb-20</td>\n",
       "    </tr>\n",
       "    <tr>\n",
       "      <th>2</th>\n",
       "      <td>2</td>\n",
       "      <td>Bangalore</td>\n",
       "      <td>Ramanagara</td>\n",
       "      <td>Beans</td>\n",
       "      <td>Beans (Whole)</td>\n",
       "      <td>FAQ</td>\n",
       "      <td>1800</td>\n",
       "      <td>2200</td>\n",
       "      <td>2000</td>\n",
       "      <td>13-Feb-20</td>\n",
       "    </tr>\n",
       "    <tr>\n",
       "      <th>3</th>\n",
       "      <td>3</td>\n",
       "      <td>Bangalore</td>\n",
       "      <td>Ramanagara</td>\n",
       "      <td>Beans</td>\n",
       "      <td>Beans (Whole)</td>\n",
       "      <td>FAQ</td>\n",
       "      <td>2000</td>\n",
       "      <td>2400</td>\n",
       "      <td>2200</td>\n",
       "      <td>12-Feb-20</td>\n",
       "    </tr>\n",
       "    <tr>\n",
       "      <th>4</th>\n",
       "      <td>4</td>\n",
       "      <td>Bangalore</td>\n",
       "      <td>Ramanagara</td>\n",
       "      <td>Beans</td>\n",
       "      <td>Beans (Whole)</td>\n",
       "      <td>FAQ</td>\n",
       "      <td>2000</td>\n",
       "      <td>2400</td>\n",
       "      <td>2200</td>\n",
       "      <td>11-Feb-20</td>\n",
       "    </tr>\n",
       "  </tbody>\n",
       "</table>\n",
       "</div>"
      ],
      "text/plain": [
       "   Sl. No.   District      Market Commodity        Variety Grade  MinPrice  \\\n",
       "0        0  Bangalore  Ramanagara     Beans  Beans (Whole)   FAQ      2000   \n",
       "1        1  Bangalore  Ramanagara     Beans  Beans (Whole)   FAQ      1600   \n",
       "2        2  Bangalore  Ramanagara     Beans  Beans (Whole)   FAQ      1800   \n",
       "3        3  Bangalore  Ramanagara     Beans  Beans (Whole)   FAQ      2000   \n",
       "4        4  Bangalore  Ramanagara     Beans  Beans (Whole)   FAQ      2000   \n",
       "\n",
       "   MaxPrice  ModalPrice  PriceDate  \n",
       "0      2800        2400  15-Feb-20  \n",
       "1      2000        1800  14-Feb-20  \n",
       "2      2200        2000  13-Feb-20  \n",
       "3      2400        2200  12-Feb-20  \n",
       "4      2400        2200  11-Feb-20  "
      ]
     },
     "execution_count": 2,
     "metadata": {},
     "output_type": "execute_result"
    }
   ],
   "source": [
    "beansData = pd.read_csv(\"beansData//Beans_Price_Report.csv\")\n",
    "beansData.head()"
   ]
  },
  {
   "cell_type": "code",
   "execution_count": 3,
   "metadata": {},
   "outputs": [
    {
     "name": "stdout",
     "output_type": "stream",
     "text": [
      "2020\n"
     ]
    }
   ],
   "source": [
    "beansData[\"PriceDate\"] = pd.to_datetime(beansData[\"PriceDate\"])\n",
    "print(beansData[\"PriceDate\"][0].year)"
   ]
  },
  {
   "cell_type": "code",
   "execution_count": 4,
   "metadata": {},
   "outputs": [
    {
     "name": "stdout",
     "output_type": "stream",
     "text": [
      "Number of rows per market:\n",
      "Market\n",
      "Binny Mill (F&V), Bangalore    494\n",
      "Ramanagara                     637\n",
      "dtype: int64\n"
     ]
    }
   ],
   "source": [
    "print(\"Number of rows per market:\")\n",
    "print(beansData.groupby(\"Market\").size())"
   ]
  },
  {
   "cell_type": "code",
   "execution_count": 5,
   "metadata": {},
   "outputs": [
    {
     "name": "stdout",
     "output_type": "stream",
     "text": [
      "Number of rows per market per year:\n",
      "Market                       PriceDate\n",
      "Binny Mill (F&V), Bangalore  2018         208\n",
      "                             2019         250\n",
      "                             2020          36\n",
      "Ramanagara                   2018         305\n",
      "                             2019         295\n",
      "                             2020          37\n",
      "dtype: int64\n"
     ]
    }
   ],
   "source": [
    "print(\"Number of rows per market per year:\")\n",
    "print(beansData.groupby([beansData.Market,beansData.PriceDate.dt.year]).size())"
   ]
  },
  {
   "cell_type": "code",
   "execution_count": null,
   "metadata": {
    "collapsed": true
   },
   "outputs": [],
   "source": []
  },
  {
   "cell_type": "code",
   "execution_count": null,
   "metadata": {
    "collapsed": true
   },
   "outputs": [],
   "source": []
  },
  {
   "cell_type": "code",
   "execution_count": null,
   "metadata": {
    "collapsed": true
   },
   "outputs": [],
   "source": []
  }
 ],
 "metadata": {
  "kernelspec": {
   "display_name": "Python 3",
   "language": "python",
   "name": "python3"
  },
  "language_info": {
   "codemirror_mode": {
    "name": "ipython",
    "version": 3
   },
   "file_extension": ".py",
   "mimetype": "text/x-python",
   "name": "python",
   "nbconvert_exporter": "python",
   "pygments_lexer": "ipython3",
   "version": "3.6.7"
  }
 },
 "nbformat": 4,
 "nbformat_minor": 2
}
